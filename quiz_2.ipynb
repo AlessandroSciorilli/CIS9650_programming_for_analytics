{
 "cells": [
  {
   "cell_type": "markdown",
   "id": "94611e57",
   "metadata": {},
   "source": [
    "# Quiz 2"
   ]
  },
  {
   "cell_type": "markdown",
   "id": "ef94f1b1",
   "metadata": {},
   "source": [
    ">1. Read the file numbers.txt into list1\n",
    ">2. Create list2 and copy all numbers greater than 25 from list1\n",
    ">3. Use a loop to ask the user to input 5 numbers. Append these 5 numbers to list2.\n",
    ">4. Save list2 to a file called new_numbers.txt\n",
    ">\n",
    ">Assume numbers.txt is a clean file with one number per line. Use the file from blackboard when you code in idle.\n",
    ">Assume user will input only numbers (you don't have to check input).\n"
   ]
  },
  {
   "cell_type": "code",
   "execution_count": 1,
   "id": "83a60d35",
   "metadata": {},
   "outputs": [
    {
     "name": "stdout",
     "output_type": "stream",
     "text": [
      "input number 1:50\n",
      "input number 2:10\n",
      "input number 3:30\n",
      "input number 4:25\n",
      "input number 5:12\n"
     ]
    }
   ],
   "source": [
    "infile = open(\"C:\\\\Users\\\\aless\\\\Desktop\\\\Zicklin\\\\Programming For Analytics\\\\numbers.txt\", \"r\")\n",
    "list1 = infile.readlines()\n",
    "infile.close()\n",
    "\n",
    "#list comprehension:\n",
    "list2 = [int(i) for i in list1 if int(i)>25]\n",
    "\n",
    "for n in range (1,6):\n",
    "    num = int(input(f\"input number {n}:\"))\n",
    "    list2.append(num)\n",
    "\n",
    "outfile = open(\"C:\\\\Users\\\\aless\\\\Desktop\\\\Zicklin\\\\Programming For Analytics\\\\numbers.txt\", \"w\")\n",
    "for x in list2:\n",
    "    outfile.write(str(x))\n",
    "    outfile.write(\"\\n\")\n",
    "outfile.close()"
   ]
  },
  {
   "cell_type": "code",
   "execution_count": null,
   "id": "3641a164",
   "metadata": {},
   "outputs": [],
   "source": []
  }
 ],
 "metadata": {
  "kernelspec": {
   "display_name": "Python 3 (ipykernel)",
   "language": "python",
   "name": "python3"
  },
  "language_info": {
   "codemirror_mode": {
    "name": "ipython",
    "version": 3
   },
   "file_extension": ".py",
   "mimetype": "text/x-python",
   "name": "python",
   "nbconvert_exporter": "python",
   "pygments_lexer": "ipython3",
   "version": "3.10.9"
  }
 },
 "nbformat": 4,
 "nbformat_minor": 5
}
