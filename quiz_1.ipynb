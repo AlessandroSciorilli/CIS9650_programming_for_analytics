{
 "cells": [
  {
   "cell_type": "markdown",
   "id": "0b89ff29",
   "metadata": {},
   "source": [
    "# Quiz 1\n",
    "\n",
    ">Uhaul charges the following amounts to rent storage units:\n",
    ">\n",
    ">\n",
    ">| 1-5 Months | 6-11 Months |12+ Months|\n",
    ">|---------|-------|-------|\n",
    ">|Small: 50 dollars per month| 40 dollars per month|30 dollars per month\n",
    ">|Medium: 75 dollars per month|65 dollars per month| 55 dollars per month\n",
    ">|Large: 100 dollars per month| 90 dollars per month| 80 dollars per month\n",
    ">\n",
    ">\n",
    ">Write a program that asks the user to enter the size of the unit and the number of months. Display the cost per month and the total amount. If the user enters an invalid size or months, display zeros for both outputs. Format all outputs to two decimal places."
   ]
  },
  {
   "cell_type": "code",
   "execution_count": 1,
   "id": "b7a50aa7",
   "metadata": {},
   "outputs": [
    {
     "name": "stdout",
     "output_type": "stream",
     "text": [
      "Enter the size of unit (s, m, l): m\n",
      "Enter the number of months: 8\n",
      "Cost per month: 65.00\n",
      "Total cost: 520.00\n"
     ]
    }
   ],
   "source": [
    "size = input(\"Enter the size of unit (s, m, l): \")\n",
    "months = int(input(\"Enter the number of months: \"))\n",
    "\n",
    "small_strm = 50\n",
    "small_mtrm = 40\n",
    "small_ltrm = 30\n",
    "medium_strm = 75\n",
    "medium_mtrm = 65\n",
    "medium_ltrm = 55\n",
    "long_strm = 100\n",
    "long_mtrm = 90\n",
    "long_ltrm = 80\n",
    "\n",
    "if 1 <= months <= 5:\n",
    "    if size == \"s\":\n",
    "        print(f\"Cost per month: {small_strm:.2f}\\nTotal cost: {small_strm * months:.2f}\")\n",
    "    elif size == \"m\":\n",
    "        print(f\"Cost per month: {medium_strm:.2f}\\nTotal cost: {medium_strm * months:.2f}\")\n",
    "    elif size == \"l\":\n",
    "        print(f\"Cost per month: {long_strm:.2f}\\nTotal cost: {long_strm * months:.2f}\")\n",
    "    else:\n",
    "        print(f\"Cost per month: {0:.2f}\\nTotal cost: {0:.2f}\")\n",
    "\n",
    "elif 6 <= months <= 11:\n",
    "    if size == \"s\":\n",
    "        print(f\"Cost per month: {small_mtrm:.2f}\\nTotal cost: {small_mtrm * months:.2f}\")\n",
    "    elif size == \"m\":\n",
    "        print(f\"Cost per month: {medium_mtrm:.2f}\\nTotal cost: {medium_mtrm * months:.2f}\")\n",
    "    elif size == \"l\":\n",
    "        print(f\"Cost per month: {long_mtrm:.2f}\\nTotal cost: {long_mtrm * months:.2f}\")\n",
    "    else:\n",
    "        print(f\"Cost per month: {0:.2f}\\nTotal cost: {0:.2f}\")\n",
    "\n",
    "elif months >= 12:\n",
    "    if size == \"s\":\n",
    "        print(f\"Cost per month: {small_ltrm:.2f}\\nTotal cost: {small_ltrm * months:.2f}\")\n",
    "    elif size == \"m\":\n",
    "        print(f\"Cost per month: {medium_ltrm:.2f}\\nTotal cost: {medium_ltrm * months:.2f}\")\n",
    "    elif size == \"l\":\n",
    "        print(f\"Cost per month: {long_ltrm:.2f}\\nTotal cost: {long_ltrm * months:.2f}\")\n",
    "    else:\n",
    "        print(f\"Cost per month: {0:.2f}\\nTotal cost: {0:.2f}\")\n",
    "\n",
    "else:\n",
    "    print(f\"Cost per month: {0:.2f}\\nTotal cost: {0:.2f}\")\n"
   ]
  },
  {
   "cell_type": "code",
   "execution_count": null,
   "id": "34fa7f92",
   "metadata": {},
   "outputs": [],
   "source": []
  }
 ],
 "metadata": {
  "kernelspec": {
   "display_name": "Python 3 (ipykernel)",
   "language": "python",
   "name": "python3"
  },
  "language_info": {
   "codemirror_mode": {
    "name": "ipython",
    "version": 3
   },
   "file_extension": ".py",
   "mimetype": "text/x-python",
   "name": "python",
   "nbconvert_exporter": "python",
   "pygments_lexer": "ipython3",
   "version": "3.10.9"
  }
 },
 "nbformat": 4,
 "nbformat_minor": 5
}
