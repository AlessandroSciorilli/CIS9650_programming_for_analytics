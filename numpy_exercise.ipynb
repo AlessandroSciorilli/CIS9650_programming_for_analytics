{
 "cells": [
  {
   "cell_type": "markdown",
   "id": "3428d0d0",
   "metadata": {},
   "source": [
    "# Numpy Exercise\n",
    "\n",
    ">- Load entire file **Lotto.txt** into one array.\n",
    ">- Sort each row, from smallest number to largest\n",
    ">- Save the sorted array to a file called lotto_sorted.txt\n",
    ">- Print to the screen all unique numbers in the array and the count of each unique numbe\n",
    ">- Export your notebook as firstname_lastname_CIS9650_HW.ipbny\n",
    ">- Upload the notebook and lotto_sorted.txt to this assignment\n"
   ]
  },
  {
   "cell_type": "code",
   "execution_count": 1,
   "id": "93694086",
   "metadata": {},
   "outputs": [],
   "source": [
    "import numpy as np"
   ]
  },
  {
   "cell_type": "code",
   "execution_count": 8,
   "id": "d65e17fa",
   "metadata": {},
   "outputs": [
    {
     "data": {
      "text/plain": [
       "array([[17, 22, 36, 37, 52, 24],\n",
       "       [14, 22, 52, 54, 59,  4],\n",
       "       [ 5,  8, 29, 37, 38, 24],\n",
       "       ...,\n",
       "       [30, 47, 57, 66, 69,  3],\n",
       "       [ 5, 25, 26, 44, 66,  9],\n",
       "       [20, 32, 52, 66, 69, 23]])"
      ]
     },
     "execution_count": 8,
     "metadata": {},
     "output_type": "execute_result"
    }
   ],
   "source": [
    "#Load entire file into one array\n",
    "lotto_arr = np.loadtxt(\"C:\\\\Users\\\\aless\\\\Desktop\\\\Zicklin\\\\Programming For Analytics\\\\Exercises\\\\lotto.txt\", int)\n",
    "lotto_arr"
   ]
  },
  {
   "cell_type": "code",
   "execution_count": 9,
   "id": "4b75db4d",
   "metadata": {},
   "outputs": [
    {
     "data": {
      "text/plain": [
       "array([[17, 22, 24, 36, 37, 52],\n",
       "       [ 4, 14, 22, 52, 54, 59],\n",
       "       [ 5,  8, 24, 29, 37, 38],\n",
       "       ...,\n",
       "       [ 3, 30, 47, 57, 66, 69],\n",
       "       [ 5,  9, 25, 26, 44, 66],\n",
       "       [20, 23, 32, 52, 66, 69]])"
      ]
     },
     "execution_count": 9,
     "metadata": {},
     "output_type": "execute_result"
    }
   ],
   "source": [
    "#Sort each row, from smallest number to largest\n",
    "lotto_arr_srt = np.array(lotto_arr)\n",
    "lotto_arr_srt.sort()\n",
    "lotto_arr_srt"
   ]
  },
  {
   "cell_type": "code",
   "execution_count": 10,
   "id": "71b0656f",
   "metadata": {},
   "outputs": [],
   "source": [
    "#Save the sorted array to a file called lotto_sorted.txt\n",
    "np.savetxt('lotto_sorted.txt', lotto_arr_srt, fmt ='%d')"
   ]
  },
  {
   "cell_type": "code",
   "execution_count": 11,
   "id": "eb30c598",
   "metadata": {},
   "outputs": [
    {
     "data": {
      "text/plain": [
       "array([ 1,  2,  3,  4,  5,  6,  7,  8,  9, 10, 11, 12, 13, 14, 15, 16, 17,\n",
       "       18, 19, 20, 21, 22, 23, 24, 25, 26, 27, 28, 29, 30, 31, 32, 33, 34,\n",
       "       35, 36, 37, 38, 39, 40, 41, 42, 43, 44, 45, 46, 47, 48, 49, 50, 51,\n",
       "       52, 53, 54, 55, 56, 57, 58, 59, 60, 61, 62, 63, 64, 65, 66, 67, 68,\n",
       "       69])"
      ]
     },
     "execution_count": 11,
     "metadata": {},
     "output_type": "execute_result"
    }
   ],
   "source": [
    "#Print to the screen all unique numbers in the array\n",
    "lotto_arr_srt_unique = np.unique(lotto_arr_srt)\n",
    "lotto_arr_srt_unique"
   ]
  },
  {
   "cell_type": "code",
   "execution_count": 12,
   "id": "56c581eb",
   "metadata": {},
   "outputs": [
    {
     "name": "stdout",
     "output_type": "stream",
     "text": [
      "69\n"
     ]
    }
   ],
   "source": [
    "#Print the count of each unique number\n",
    "count = np.size(lotto_arr_srt_unique)\n",
    "print(count)"
   ]
  },
  {
   "cell_type": "code",
   "execution_count": null,
   "id": "1af6fe70",
   "metadata": {},
   "outputs": [],
   "source": []
  }
 ],
 "metadata": {
  "kernelspec": {
   "display_name": "Python 3 (ipykernel)",
   "language": "python",
   "name": "python3"
  },
  "language_info": {
   "codemirror_mode": {
    "name": "ipython",
    "version": 3
   },
   "file_extension": ".py",
   "mimetype": "text/x-python",
   "name": "python",
   "nbconvert_exporter": "python",
   "pygments_lexer": "ipython3",
   "version": "3.10.9"
  }
 },
 "nbformat": 4,
 "nbformat_minor": 5
}
