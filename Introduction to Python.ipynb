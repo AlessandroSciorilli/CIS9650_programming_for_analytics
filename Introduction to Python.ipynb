{
 "cells": [
  {
   "cell_type": "markdown",
   "id": "736ff236",
   "metadata": {},
   "source": [
    "# 1. Variables\n",
    ">A cookie recipe calls for the following ingredients: 1.5 cups of sugar, 1 cup of butter, 2.75 cups of flour. The recipe produces 48 cookies with this amount of ingredients. Write a program that asks the user how many cookies they want to make and then displays the number of cups of each ingredient needed for the specified number of cookies in the following for mat: You need 5 cups of sugar, 3 cups of butter, and 7 cups of flour.\n"
   ]
  },
  {
   "cell_type": "code",
   "execution_count": 1,
   "id": "9b90fe92",
   "metadata": {},
   "outputs": [
    {
     "name": "stdout",
     "output_type": "stream",
     "text": [
      "Enter number of cookies:20\n",
      "You need 0.625 cups of sugar, 0.41666666666666663 cups of butter, and 1.1458333333333333 cups of flour.\n"
     ]
    }
   ],
   "source": [
    "n_cookies = float (input(\"Enter number of cookies:\"))\n",
    "\n",
    "print(\"You need\",(1.5/48)*n_cookies,\"cups of sugar,\", (1.0 / 48)*n_cookies,\"cups of butter, and\",(2.75 / 48)*n_cookies,\"cups of flour.\")"
   ]
  },
  {
   "cell_type": "markdown",
   "id": "99254b2e",
   "metadata": {},
   "source": [
    ">Write a program that asks the user for the number of males and the number of females registered in a class using two separate   >inputs (\"Enter number of males:\", \"Enter num ber of females:\"). The program should display the percentage of males and females  >(ro und to the nearest whole number) in the following format:\n",
    ">- Percent males: 35% \n",
    ">- Percent females: 65% \n",
    ">Use string formatting.\n",
    "\n"
   ]
  },
  {
   "cell_type": "code",
   "execution_count": 2,
   "id": "a1217189",
   "metadata": {},
   "outputs": [
    {
     "name": "stdout",
     "output_type": "stream",
     "text": [
      "Enter number of males:320\n",
      "Enter number of females:280\n",
      "Percent males: 53%\n",
      "Percent females: 47%\n"
     ]
    }
   ],
   "source": [
    "males = int(input(\"Enter number of males:\"))\n",
    "females = int(input(\"Enter number of females:\"))\n",
    "\n",
    "pr_males = (males)/(males + females)\n",
    "pr_females = (females)/(males + females)\n",
    "\n",
    "pr_males = format (pr_males,'.0%')\n",
    "pr_females = format (pr_females, '.0%')\n",
    "\n",
    "print (\"Percent males:\", pr_males)\n",
    "print (\"Percent females:\", pr_females)"
   ]
  },
  {
   "cell_type": "markdown",
   "id": "456cd524",
   "metadata": {},
   "source": [
    "# 2. Conditions\n",
    ">Write an **if/else** statement that compares **age** with 65, adds 1 to **senior_citizens** if **age** is greater than or equal to **65**, and adds 1 to **non_seniors** otherwise."
   ]
  },
  {
   "cell_type": "code",
   "execution_count": 3,
   "id": "9c5102b5",
   "metadata": {},
   "outputs": [],
   "source": [
    "age = int()\n",
    "senior_citizens = int()\n",
    "non_seniors = int()\n",
    "\n",
    "if age>=65:\n",
    "    senior_citizens+=1\n",
    "else:\n",
    "    non_seniors+=1"
   ]
  },
  {
   "cell_type": "markdown",
   "id": "313a3f26",
   "metadata": {},
   "source": [
    ">Write an **if/else** statement that assigns **True** to **fever** if **temperature** is greater than 98.6; otherwise it assigns **False** to **fever**."
   ]
  },
  {
   "cell_type": "code",
   "execution_count": 4,
   "id": "6c2b4c9f",
   "metadata": {},
   "outputs": [],
   "source": [
    "temperature = float()\n",
    "fever = float()\n",
    "\n",
    "if temperature>98.6:\n",
    "    fever = True\n",
    "else:\n",
    "    fever = False"
   ]
  },
  {
   "cell_type": "markdown",
   "id": "6c2538f8",
   "metadata": {},
   "source": [
    ">Write a statement that adds 1 to the variable **reverseDrivers** if the variable **speed** is less than 0,adds 1 to the variable **parkedDrivers** if the variable **speed** is less th an 1,adds 1 to the variable **slowDrivers** if the variable **speed** is less than 40,adds 1 to the variable **safeDrivers** if the variable **speed** is less than or equal to 65, and otherwise adds 1 to the variable **speeders**."
   ]
  },
  {
   "cell_type": "code",
   "execution_count": 5,
   "id": "b7ada009",
   "metadata": {},
   "outputs": [],
   "source": [
    "speed = int()\n",
    "reverseDrivers = int()\n",
    "parkedDrivers = int()\n",
    "slowDrivers = int()\n",
    "safeDrivers = int()\n",
    "speeders = int()\n",
    "\n",
    "if speed<0:\n",
    "    reverseDrivers+=1\n",
    "elif speed<1:\n",
    "    parkedDrivers+=1\n",
    "elif speed<40:\n",
    "    slowDrivers+=1\n",
    "elif speed<=65:\n",
    "    safeDrivers+=1\n",
    "else:\n",
    "    speeders+=1"
   ]
  },
  {
   "cell_type": "markdown",
   "id": "cb24a0c3",
   "metadata": {},
   "source": [
    ">In the Happy Valley School System, children are classified by age as follows:\n",
    ">\n",
    ">- less than 2, **ineligible**\n",
    ">- 2, **toddler**\n",
    ">- 3-5, **early childhood**\n",
    ">- 6-7, **young reader**\n",
    ">- 8-10, **elementary**\n",
    ">- 11 and 12, **middle**\n",
    ">- 13, **impossible**\n",
    ">- 14-16, **high school**\n",
    ">- 17-18, **scholar**\n",
    ">- greater than 18, **ineligible**\n",
    ">\n",
    ">Given a variable **age**, write the necessary code to print out, on a line by itself, the\n",
    "appropriate label from the above list based on **age**.\n",
    "\n"
   ]
  },
  {
   "cell_type": "code",
   "execution_count": 6,
   "id": "2d68cea6",
   "metadata": {},
   "outputs": [
    {
     "name": "stdout",
     "output_type": "stream",
     "text": [
      "ineligible\n"
     ]
    }
   ],
   "source": [
    "age=int()\n",
    "\n",
    "if age<2:\n",
    "    print(\"ineligible\")\n",
    "elif age==2:\n",
    "    print(\"toddler\")\n",
    "elif age>=3 and age<=5:\n",
    "    print(\"early childhood\")\n",
    "elif age>=6 and age<=7:\n",
    "    print(\"young reader\")\n",
    "elif age>=8 and age<=10:\n",
    "    print(\"elementary\")\n",
    "elif age>=11 and age<=12:\n",
    "    print(\"middle\")\n",
    "elif age==13:\n",
    "    print(\"impossible\")\n",
    "elif age>=14 and age<=16:\n",
    "    print (\"high school\")\n",
    "elif age>=17 and age<=18:\n",
    "    print(\"scholar\")\n",
    "elif age>18:\n",
    "    print (\"ineligible\")"
   ]
  },
  {
   "cell_type": "markdown",
   "id": "c25d9b2b",
   "metadata": {},
   "source": [
    ">Write a program that displays the cost of a parking permit, according to the foll owing policy:\n",
    ">\n",
    ">- Administrators: 95 dollars\n",
    ">- Full-time Faculty: 90 dollars\n",
    ">- Part-time Faculty: 50 dollars\n",
    ">- Students: 25 dollars\n",
    ">\n",
    ">The program starts by prompting for the permit type (using this prompt: \"permit type (a/f/p/s):\" and then reading a single >letter (a or for p or s) that indicates the ty pe. The program then prints the price on a single line by itself in this format:\n",
    ">**$xx**.\n",
    ">If an invalid type is entered the program just prints \"invalid type\" on a single line\n"
   ]
  },
  {
   "cell_type": "code",
   "execution_count": 7,
   "id": "37a919b4",
   "metadata": {},
   "outputs": [
    {
     "name": "stdout",
     "output_type": "stream",
     "text": [
      "permit type (a/f/p/s):p\n",
      "$50\n"
     ]
    }
   ],
   "source": [
    "permit = input(\"permit type (a/f/p/s):\")\n",
    "if permit == \"a\":\n",
    "    print (\"$95\")\n",
    "elif permit == \"f\":\n",
    "    print (\"$90\")\n",
    "elif permit == \"p\":\n",
    "    print (\"$50\")\n",
    "elif permit == \"s\":\n",
    "    print (\"$25\")\n",
    "else:\n",
    "    print(\"invalid type\")"
   ]
  },
  {
   "cell_type": "markdown",
   "id": "faa828e1",
   "metadata": {},
   "source": [
    ">The Fast Freight Shipping Company charges the following rates:\n",
    ">\n",
    ">|Weight of Package                         |Rate per Pound|\n",
    "|------------------------------------------|--------------|\n",
    "|2 pounds or less                          | 1.50         |\n",
    "| Over 2 pounds but not more than 6 pounds | 3.00         |\n",
    "| Over 6 pounds but not more than 10 pounds| 4.00         |\n",
    "| Over 10 pounds                           | 4.75         |\n",
    ">\n",
    ">Write a program that asks the user to enter the weight of a package and then displays the shipping charge and total cost."
   ]
  },
  {
   "cell_type": "code",
   "execution_count": 8,
   "id": "8708ead3",
   "metadata": {},
   "outputs": [
    {
     "name": "stdout",
     "output_type": "stream",
     "text": [
      "Enter the weight of the package:7\n",
      "Shipping charge: 4.00\n",
      "Total cost: 28.00\n"
     ]
    }
   ],
   "source": [
    "weight = float(input(\"Enter the weight of the package:\"))\n",
    "if weight<=2:\n",
    "    print(f\"Shipping charge: 1.50 \\nTotal cost: {weight*1.50: .2f}\")\n",
    "elif weight>2 and weight<6:\n",
    "    print(f\"Shipping charge: 3.00\\nTotal cost:{weight*3.00: .2f}\")\n",
    "elif weight>6 and weight <10:\n",
    "    print(f\"Shipping charge: 4.00\\nTotal cost:{weight*4.00: .2f}\")\n",
    "elif weight>10:\n",
    "    print (f\"Shipping charge: 4.75\\nTotal cost:{weight*4.75: .2f}\")"
   ]
  },
  {
   "cell_type": "markdown",
   "id": "e75f9d16",
   "metadata": {},
   "source": [
    "# 3. Loops\n",
    ">Use the variable **k** and **total** to write a loop that computes the **sum** of the **squares** of the first 50 counting numbers, and assigns that value to **total**. Thus your code should assign 1$*$1+2$*$2+3$*$3+...+49$*$49+50$*$50 to **total**. Use no variables other than **k** and **total**."
   ]
  },
  {
   "cell_type": "code",
   "execution_count": 9,
   "id": "fe8c7a57",
   "metadata": {},
   "outputs": [],
   "source": [
    "k=1\n",
    "total=0\n",
    "while k<51:\n",
    "    total +=k**2\n",
    "    k +=1"
   ]
  },
  {
   "cell_type": "markdown",
   "id": "efb634d1",
   "metadata": {},
   "source": [
    ">In this exercise, use the following variables: *i,lo,hi* and *result*. Assume that *lo* and *hi* each are associated with an *int* and that *result* refers to 0. Write a **while** loop that **add** the integers from *lo* up through *hi* (inclusive), ad associates the sum with *result*. Your code should not change the values associated with *lo* and *hi*. Also, just use these variables:*i,lo,hi* and *result*."
   ]
  },
  {
   "cell_type": "code",
   "execution_count": 10,
   "id": "617deaa7",
   "metadata": {},
   "outputs": [],
   "source": [
    "lo = int()\n",
    "hi = int()\n",
    "result = int()\n",
    "\n",
    "i=lo\n",
    "while i<=hi:\n",
    "    result+=i\n",
    "    i+=1"
   ]
  },
  {
   "cell_type": "markdown",
   "id": "b8686674",
   "metadata": {},
   "source": [
    ">Write a loop that reads positive integers from standard input, printing out those values that are greater than 100, each on a separate line. The loop terminates when it reads an integer that is not positive."
   ]
  },
  {
   "cell_type": "code",
   "execution_count": 11,
   "id": "5139d513",
   "metadata": {},
   "outputs": [
    {
     "name": "stdout",
     "output_type": "stream",
     "text": [
      "101\n",
      "101\n",
      "102\n",
      "102\n",
      "-1\n"
     ]
    }
   ],
   "source": [
    "n = int(input())\n",
    "while n>0:\n",
    "    if n>100:\n",
    "        print(n)\n",
    "    n = int(input())"
   ]
  },
  {
   "cell_type": "markdown",
   "id": "1ba10ab7",
   "metadata": {},
   "source": [
    ">Write a loop that reads positive integers from standard input and that terminates when it reads an integer that is not positive. After the loop terminates, it prints out, on a line by itself, the sum of all the even integers read."
   ]
  },
  {
   "cell_type": "code",
   "execution_count": 12,
   "id": "00d48db8",
   "metadata": {},
   "outputs": [
    {
     "name": "stdout",
     "output_type": "stream",
     "text": [
      "1\n",
      "2\n",
      "3\n",
      "4\n",
      "5\n",
      "6\n",
      "7\n",
      "8\n",
      "9\n",
      "10\n",
      "-1\n",
      "30\n"
     ]
    }
   ],
   "source": [
    "n = int(input())\n",
    "total_even = 0\n",
    "while n>0:\n",
    "    if n % 2 ==0:\n",
    "        total_even += n\n",
    "    n = int(input())\n",
    "\n",
    "print (total_even)"
   ]
  },
  {
   "cell_type": "markdown",
   "id": "77c852b1",
   "metadata": {},
   "source": [
    ">Write a loop that reads strings from standard input where the string is either \"land\", \"air\", or \"water\". The loop terminates when \"xxxxx\" (five x characters) is read in. Other strings are ignored. After the loop, your code should print out 3 lines: the first consisting of the string \"land:\" followed by the number of \"land\" strings read in, the second consisting of the string \"air:\" followed by the number of \"air\" strings read in, and the third consis ting of the string \"water:\" followed by the number of \"water\" strings read in. Each of these should be printed on a separate line.\n"
   ]
  },
  {
   "cell_type": "code",
   "execution_count": 13,
   "id": "7de84c55",
   "metadata": {},
   "outputs": [
    {
     "name": "stdout",
     "output_type": "stream",
     "text": [
      "air\n",
      "air\n",
      "air\n",
      "water\n",
      "air\n",
      "land\n",
      "land\n",
      "xxxxx\n",
      "land:2\n",
      "air:4\n",
      "water:1\n"
     ]
    }
   ],
   "source": [
    "land=0\n",
    "air=0\n",
    "water=0\n",
    "i = input()\n",
    "\n",
    "while i != \"xxxxx\":\n",
    "    if i == \"land\":\n",
    "        land+=1\n",
    "    elif i == \"air\":\n",
    "        air+=1\n",
    "    elif i == \"water\":\n",
    "        water+=1\n",
    "    i = input()\n",
    "\n",
    "print(\"land:\",land,sep=\"\")\n",
    "print(\"air:\",air,sep=\"\")\n",
    "print(\"water:\",water,sep=\"\")"
   ]
  },
  {
   "cell_type": "markdown",
   "id": "cd7f768a",
   "metadata": {},
   "source": [
    ">Use two variables **k** and **total** to write a **for** loop to compute the **sum** of the **squares** of the first 50 counting numbers, and store this value in **total**. Thus, your code should put 1$*$1+2$*$2 + 3$*$3+...+49$*$49+ 50$*$50 into total. Use no variables other than**k** and **total**."
   ]
  },
  {
   "cell_type": "code",
   "execution_count": 14,
   "id": "01f83136",
   "metadata": {},
   "outputs": [],
   "source": [
    "k=1\n",
    "total=0\n",
    "for k in range(0,51):\n",
    "    total+=k**2"
   ]
  },
  {
   "cell_type": "markdown",
   "id": "59460a6d",
   "metadata": {},
   "source": [
    ">Compute the average of the numbers from **1** to **n** (where **n** is a positive integrer value) and siign it to the variable **avg**."
   ]
  },
  {
   "cell_type": "code",
   "execution_count": 15,
   "id": "fe031e81",
   "metadata": {},
   "outputs": [],
   "source": [
    "s = int()\n",
    "for k in range (1,n+1):\n",
    "    s += k\n",
    "    avg = s/k"
   ]
  },
  {
   "cell_type": "markdown",
   "id": "b7c4e830",
   "metadata": {},
   "source": [
    ">Write a **for** loop that prints the **odd** integrers 11 through 121 inclusive, each value on a separate line."
   ]
  },
  {
   "cell_type": "code",
   "execution_count": 16,
   "id": "837982d8",
   "metadata": {},
   "outputs": [
    {
     "name": "stdout",
     "output_type": "stream",
     "text": [
      "11\n",
      "13\n",
      "15\n",
      "17\n",
      "19\n",
      "21\n",
      "23\n",
      "25\n",
      "27\n",
      "29\n",
      "31\n",
      "33\n",
      "35\n",
      "37\n",
      "39\n",
      "41\n",
      "43\n",
      "45\n",
      "47\n",
      "49\n",
      "51\n",
      "53\n",
      "55\n",
      "57\n",
      "59\n",
      "61\n",
      "63\n",
      "65\n",
      "67\n",
      "69\n",
      "71\n",
      "73\n",
      "75\n",
      "77\n",
      "79\n",
      "81\n",
      "83\n",
      "85\n",
      "87\n",
      "89\n",
      "91\n",
      "93\n",
      "95\n",
      "97\n",
      "99\n",
      "101\n",
      "103\n",
      "105\n",
      "107\n",
      "109\n",
      "111\n",
      "113\n",
      "115\n",
      "117\n",
      "119\n",
      "121\n"
     ]
    }
   ],
   "source": [
    "for i in range (11,122):\n",
    "    if i % 2 == 1:\n",
    "        print (i)"
   ]
  },
  {
   "cell_type": "markdown",
   "id": "4e72094c",
   "metadata": {},
   "source": [
    ">Write a **for** loop that prints the integers 50 through 1, each on a separate line. Use no variables other than **count**."
   ]
  },
  {
   "cell_type": "code",
   "execution_count": 17,
   "id": "a86317f9",
   "metadata": {},
   "outputs": [
    {
     "name": "stdout",
     "output_type": "stream",
     "text": [
      "50\n",
      "49\n",
      "48\n",
      "47\n",
      "46\n",
      "45\n",
      "44\n",
      "43\n",
      "42\n",
      "41\n",
      "40\n",
      "39\n",
      "38\n",
      "37\n",
      "36\n",
      "35\n",
      "34\n",
      "33\n",
      "32\n",
      "31\n",
      "30\n",
      "29\n",
      "28\n",
      "27\n",
      "26\n",
      "25\n",
      "24\n",
      "23\n",
      "22\n",
      "21\n",
      "20\n",
      "19\n",
      "18\n",
      "17\n",
      "16\n",
      "15\n",
      "14\n",
      "13\n",
      "12\n",
      "11\n",
      "10\n",
      "9\n",
      "8\n",
      "7\n",
      "6\n",
      "5\n",
      "4\n",
      "3\n",
      "2\n",
      "1\n"
     ]
    }
   ],
   "source": [
    "for count in range (50,0,-1):\n",
    "    print (count)"
   ]
  },
  {
   "cell_type": "markdown",
   "id": "28c2275c",
   "metadata": {},
   "source": [
    ">Print a **for** loop that prints all the even integers from 80 through 20 inclusive, separated by spaces."
   ]
  },
  {
   "cell_type": "code",
   "execution_count": 18,
   "id": "d2183cec",
   "metadata": {},
   "outputs": [
    {
     "name": "stdout",
     "output_type": "stream",
     "text": [
      "80 78 76 74 72 70 68 66 64 62 60 58 56 54 52 50 48 46 44 42 40 38 36 34 32 30 28 26 24 22 20 "
     ]
    }
   ],
   "source": [
    "for i in range (80,19,-1):\n",
    "    if i % 2 == 0 :\n",
    "        print (i, end=\" \")"
   ]
  },
  {
   "cell_type": "markdown",
   "id": "0d85f246",
   "metadata": {},
   "source": [
    ">At one college, the tuition for a full-time student is 8,000 dollars per semester. It has been announced that the tuition will increase by 3 percent each year for the next 5 years. Write a program with a loop that displays the projected semester tuition amount for the next 5 years."
   ]
  },
  {
   "cell_type": "code",
   "execution_count": 19,
   "id": "b5f0b01f",
   "metadata": {},
   "outputs": [
    {
     "name": "stdout",
     "output_type": "stream",
     "text": [
      "In 1 year, the tuition will be $8240.00\n",
      "In 2 years, the tuition will be $8487.20\n",
      "In 3 years, the tuition will be $8741.82\n",
      "In 4 years, the tuition will be $9004.07\n",
      "In 5 years, the tuition will be $9274.19\n"
     ]
    }
   ],
   "source": [
    "tuition = 8000\n",
    "increase = 1.03\n",
    "\n",
    "for year in range (1,6):\n",
    "    tuition *= increase\n",
    "    if year<=1:\n",
    "        print(f\"In {year} year, the tuition will be ${tuition:.2f}\")\n",
    "    elif year>1:\n",
    "        print (f\"In {year} years, the tuition will be ${tuition:.2f}\")"
   ]
  },
  {
   "cell_type": "markdown",
   "id": "b027d617",
   "metadata": {},
   "source": [
    ">In mathematics, the notation n! represents the factorial of the nonnegative integer n. The factorial of n is the product of all the nonnegative integers from 1 to n. For example:\n",
    ">\n",
    "> 7! = 1 x 2 x 3 x 4 x 5 x 6 x 7 = 5,040\n",
    ">\n",
    ">Write a program that lets the user enter a nonnegative integer and then uses a loop to calculate the factorial of that number. Print the factorial to standard output.\n"
   ]
  },
  {
   "cell_type": "code",
   "execution_count": 20,
   "id": "2a167bb4",
   "metadata": {},
   "outputs": [
    {
     "name": "stdout",
     "output_type": "stream",
     "text": [
      "Enter a nonnegative integer:9\n",
      "362880\n"
     ]
    }
   ],
   "source": [
    "n = int(input(\"Enter a nonnegative integer:\"))\n",
    "total =1\n",
    "for n in range(1,n+1):\n",
    "    total = total*n\n",
    "print (total)"
   ]
  },
  {
   "cell_type": "markdown",
   "id": "c616da17",
   "metadata": {},
   "source": [
    "# 4. Functions\n",
    ">Define a function called **signOf** that takes a parameter containing an integer value and returns a 1 if the parameter is positive, 0 if the parameter is 0, and -1 if the parameter is negative. "
   ]
  },
  {
   "cell_type": "code",
   "execution_count": 21,
   "id": "71b7c915",
   "metadata": {},
   "outputs": [],
   "source": [
    "def signOf(x):\n",
    "    if x>0:\n",
    "        return 1\n",
    "    elif x==0:\n",
    "        return 0\n",
    "    else:\n",
    "        return -1"
   ]
  },
  {
   "cell_type": "markdown",
   "id": "f8a282f7",
   "metadata": {},
   "source": [
    ">Define a function called **isEven** that takes a parameter containing an integer value and returns **True** if the parameter is even, and **False** otherwise."
   ]
  },
  {
   "cell_type": "code",
   "execution_count": 22,
   "id": "1442f567",
   "metadata": {},
   "outputs": [],
   "source": [
    "def isEven(x):\n",
    "    if x % 2 == 0:\n",
    "        return True\n",
    "    else:\n",
    "        return False"
   ]
  },
  {
   "cell_type": "markdown",
   "id": "3b6524f0",
   "metadata": {},
   "source": [
    ">Fibonacci numbers are a sequence of integers, starting with 1, where the value of each number is the sum of the two previous numbers, e.g. 1, 1, 2, 3, 5, 8, etc. Write a function called **fibonacci** that takes a parameter, n, which contains an integer value, and have it return the **nth** Fibonacci number. (There are two ways to do this: one with recursion, and one without.)"
   ]
  },
  {
   "cell_type": "code",
   "execution_count": 23,
   "id": "c0d16d0e",
   "metadata": {},
   "outputs": [],
   "source": [
    "def fibonacci (stop):\n",
    "    first_num = 0\n",
    "    second_num = 1\n",
    "    for i in range (stop):\n",
    "        sum_of_num = first_num + second_num\n",
    "        first_num = second_num\n",
    "        second_num = sum_of_num\n",
    "    return first_num"
   ]
  },
  {
   "cell_type": "markdown",
   "id": "9681d60e",
   "metadata": {},
   "source": [
    ">A prime number is a number that is only evenly divisble by itself and 1.\n",
    "For example, the number 5 is prime because it can only be evenlly divided by 1 and 5. The number 6, however, is not prime because it can be divided evenly by 2 and 3.\n",
    ">\n",
    ">Write a Boolean function named **is_prime** which takes an integer as an argument and returns true if the argument is a prime number, or false otherwise. Use the function in a program that prompts the user to enter a number and then prints whether the number is prime.\n",
    " "
   ]
  },
  {
   "cell_type": "code",
   "execution_count": 24,
   "id": "dc62f4c7",
   "metadata": {},
   "outputs": [
    {
     "name": "stdout",
     "output_type": "stream",
     "text": [
      "Enter an integer:9\n",
      "False\n"
     ]
    }
   ],
   "source": [
    "def is_prime(n):\n",
    "    for i in range(2, n):\n",
    "        if n % i == 0:\n",
    "            return False\n",
    "    return True\n",
    "\n",
    "num = int(input(\"Enter an integer:\"))\n",
    "\n",
    "print(is_prime(num))"
   ]
  },
  {
   "cell_type": "markdown",
   "id": "8972124e",
   "metadata": {},
   "source": [
    ">Suppose you have a certain amount of money in a savings account that earns compound monthly interest, and you want to calculate the amount that you will have after a specific number of months. The formula is as follows:\n",
    ">\n",
    ">f = p $*$ (1 + i)^t\n",
    ">\n",
    ">- f is the future value of the account after the specified time period.\n",
    ">- p is the present value of the account.\n",
    ">- i is the monthly interest rate.\n",
    ">- t is the number of months.\n",
    ">\n",
    ">Write a program that takes the account's present value, monthly interest rate, and the number of months that the money will be left in the account as three inputs from the user. The program should pass these values to a function that returns the future value of the account, after the specified number of months. the program should print the account's future value.\n"
   ]
  },
  {
   "cell_type": "code",
   "execution_count": 25,
   "id": "d202d1d2",
   "metadata": {},
   "outputs": [
    {
     "name": "stdout",
     "output_type": "stream",
     "text": [
      "Enter current bank balance:100000\n",
      "Enter interest rate:0.05\n",
      "Enter the amount of time that passes:10\n",
      "162889.46\n"
     ]
    }
   ],
   "source": [
    "def compounding(p,i,t):\n",
    "    return p*(1+i)**t\n",
    "p = float(input(\"Enter current bank balance:\"))\n",
    "i = float(input(\"Enter interest rate:\"))\n",
    "t = float(input(\"Enter the amount of time that passes:\"))\n",
    "\n",
    "print(f\"{compounding(p, i, t):.2f}\")"
   ]
  },
  {
   "cell_type": "markdown",
   "id": "da23444c",
   "metadata": {},
   "source": [
    "# 5. Files\n",
    ">A file named **numbers.txt** contains an unknown number of lines, each consisting of a single positive integer. Write some code that reads thro ugh the file, ignoring those values that are not bigger than the maximum value read up to that point. The numbers that are NOT ignored are a dded, and their sum stored in a variable called **runsum**.\n",
    ">\n",
    ">For example, if the sequence of integers in the file were \"9 7 5 18 13 2 22 16\" the code would ignore: 7, 5, 13, 2 and 16; it would add 9, 18, and 22, storing their sum, 49, into **runsum**."
   ]
  },
  {
   "cell_type": "code",
   "execution_count": 26,
   "id": "b0c33db9",
   "metadata": {},
   "outputs": [
    {
     "name": "stdout",
     "output_type": "stream",
     "text": [
      "1287\n"
     ]
    }
   ],
   "source": [
    "num_file = open (\"C:\\\\Users\\\\aless\\\\Desktop\\\\Zicklin\\\\Programming For Analytics\\\\Exercises\\\\numbers.txt\", \"r\")\n",
    "max_num = 0\n",
    "runsum = 0\n",
    "\n",
    "for num in num_file:\n",
    "    num = num.rstrip (\"\\n\")\n",
    "    num = int(num)\n",
    "    if num >= max_num:\n",
    "        runsum = runsum + num\n",
    "        max_num = num\n",
    "\n",
    "print (runsum)\n",
    "num_file.close()"
   ]
  },
  {
   "cell_type": "markdown",
   "id": "c31165a1",
   "metadata": {},
   "source": [
    ">Two variables, **num_boys** and **num_girls**, hold the number of boys and girls that have registered for an elementary school. The variable **budget** holds the number of dollars that have been allocated to the school for the school year. Write code that prints out the per-student budget (dollar spent per student). If a division by z ero error takes place, just print out the word \"unavailable\"."
   ]
  },
  {
   "cell_type": "code",
   "execution_count": 27,
   "id": "8351e29e",
   "metadata": {},
   "outputs": [
    {
     "name": "stdout",
     "output_type": "stream",
     "text": [
      "unavailable\n"
     ]
    }
   ],
   "source": [
    "num_boys = int()\n",
    "num_girls = int()\n",
    "budget = float ()\n",
    "total_students = num_boys + num_girls\n",
    "try:\n",
    "    psd = (budget / total_students)\n",
    "    print(psd)\n",
    "except ZeroDivisionError:\n",
    "    print(\"unavailable\")"
   ]
  },
  {
   "cell_type": "markdown",
   "id": "a0ab982b",
   "metadata": {},
   "source": [
    ">The Springfork Amateur Golf Club has a tournament every weekend. The club president has asked you to write a program that will read each player's name and score as keyboard input, and then save these as records in a file named golf.txt.\n",
    ">\n",
    ">First, have the program ask the user how many players they want to add to their record. Then, ask the user for each name and score individually.\n",
    ">\n",
    ">golf.txt should be structured so that there is a line with the player's name, folowed by their score on the next line.\n",
    ">\n",
    ">- Emily\n",
    ">- 30\n",
    ">- Mike\n",
    ">- 20\n",
    ">- Jonathan\n",
    ">- 23\n"
   ]
  },
  {
   "cell_type": "code",
   "execution_count": 28,
   "id": "2f302a2a",
   "metadata": {},
   "outputs": [
    {
     "name": "stdout",
     "output_type": "stream",
     "text": [
      "Enter number of players:3\n",
      "Enter name of player number 1:Emily\n",
      "Enter score of player number 1:30\n",
      "Enter name of player number 2:Mike\n",
      "Enter score of player number 2:20\n",
      "Enter name of player number 3:Jonathan\n",
      "Enter score of player number 3:23\n"
     ]
    }
   ],
   "source": [
    "golf_file = open (\"golf.txt\", \"w\")\n",
    "num_loops = int(input(\"Enter number of players:\"))\n",
    "\n",
    "for i in range (1,num_loops+1):\n",
    "    name = input(\"Enter name of player number \" + str(i) + \":\")\n",
    "    score = input (\"Enter score of player number \" + str (i) + \":\")\n",
    "    golf_file.write(name + \"\\n\" + score + \"\\n\")\n",
    "\n",
    "golf_file.close()"
   ]
  },
  {
   "cell_type": "markdown",
   "id": "6405af0f",
   "metadata": {},
   "source": [
    ">Num.txt is a plain text file containing integers (one on each line). Using a loop, read the numbers from the file and add them to a variable called 'total.' Then, display the total to the standard output. "
   ]
  },
  {
   "cell_type": "code",
   "execution_count": 29,
   "id": "20de303c",
   "metadata": {},
   "outputs": [
    {
     "name": "stdout",
     "output_type": "stream",
     "text": [
      "25062\n"
     ]
    }
   ],
   "source": [
    "num_file = open (\"C:\\\\Users\\\\aless\\\\Desktop\\\\Zicklin\\\\Programming For Analytics\\\\Exercises\\\\num.txt\", \"r\")\n",
    "total = 0\n",
    "for num in num_file:\n",
    "    num = int(num)\n",
    "    total = total + num\n",
    "\n",
    "num_file.close()\n",
    "\n",
    "print (total)"
   ]
  },
  {
   "cell_type": "markdown",
   "id": "1bcf216f",
   "metadata": {},
   "source": [
    "# 6. Lists\n",
    ">Given the lists **list1** and **list2** that are of the same length, create a new list consisting of the first element of **list1** followed by the first element of **list2**, followed by the second element of **list1**, followed by the se cond element of **list2**, and so on (in other words the new list should consist of alternating elements of **list1** and **list2**). For example, if **list1** contained [1, 2, 3] and **list2** contained [4, 5, 6], then the new list should contain [1, 4, 2, 5, 3, 6]. Assign the new list to the variable **list3**."
   ]
  },
  {
   "cell_type": "code",
   "execution_count": 30,
   "id": "1c71fc88",
   "metadata": {},
   "outputs": [],
   "source": [
    "list1 = []\n",
    "list2 = []\n",
    "list3 = []\n",
    "for i in range (len(list1)):\n",
    "    list3.append(list1[i])\n",
    "    list3.append(list2[i])"
   ]
  },
  {
   "cell_type": "markdown",
   "id": "5d17992f",
   "metadata": {},
   "source": [
    ">A geometric progression is a sequence of numbers in which each value (after the first) is obtained by multip lying the previous value in the sequence by a fixed value called the common ratio. For example the sequenc e 3, 12, 48, 192, ... is a geometric progression in which the common ratio is 4.\n",
    ">\n",
    ">Given the positive integer **ratio** being greater than 1, and the non-negative integer n, create a list consisting of the geometric progression of numbers between (and including) 1 and n with a common ratio of ratio. For example, if **ratio** is 2 and n is 8, the list would be [1, 2, 4, 8].\n",
    ">\n",
    ">Assign the list to the variable **geom_prog**.\n"
   ]
  },
  {
   "cell_type": "code",
   "execution_count": 31,
   "id": "a460440a",
   "metadata": {},
   "outputs": [],
   "source": [
    "ratio = int()\n",
    "n = int()\n",
    "geom_prog = []\n",
    "i = 1\n",
    "\n",
    "while i <= n:\n",
    "    geom_prog.append(i)\n",
    "    i = i * ratio"
   ]
  },
  {
   "cell_type": "markdown",
   "id": "9c41c368",
   "metadata": {},
   "source": [
    ">Given the lists, **lst1** and **lst2**, create a new sorted list consisting of all the elements of **lst1** that also appears in **lst2**. For example, if **lst1** is [4, 3, 2, 6, 2] and **lst2** is [1, 2, 4], then the new list would be [2, 2, 4]. No te that duplicate elements in **lst1** that appear in **lst2** are also duplicated in the new list. Assign the new list to the variable **new_list**, and don't forget to sort the new list."
   ]
  },
  {
   "cell_type": "code",
   "execution_count": 32,
   "id": "eef1077b",
   "metadata": {},
   "outputs": [],
   "source": [
    "lst1 = []\n",
    "lst2 = []\n",
    "new_list = []\n",
    "\n",
    "for i in lst1:\n",
    "    if i in lst2 and i not in new_list:\n",
    "        new_list.append(i)\n"
   ]
  },
  {
   "cell_type": "markdown",
   "id": "a8479bcf",
   "metadata": {},
   "source": [
    ">Given a variable **temps** that refers to a list, all of whose elements contain float values, representing temp erature data, compute the average temperature and assign it to a variable named **avg_temp**. Besides **temps** and **avg_temp**, you may use two other variables -- **k** and **total**."
   ]
  },
  {
   "cell_type": "code",
   "execution_count": 33,
   "id": "66d96cb3",
   "metadata": {},
   "outputs": [],
   "source": [
    "temps = [70.5,67.8,68.4,75.9,78.2,66.1]\n",
    "k = len(temps)\n",
    "total = sum(temps)\n",
    "avg_temp = total/k"
   ]
  },
  {
   "cell_type": "markdown",
   "id": "bc7bbd74",
   "metadata": {},
   "source": [
    ">The factors of an integer are those numbers that evenly divide into the integer. Given the integer **n**, create a list of all the factors of **n**, excluding **1** and **n** itself. The list should be ordered from smallest to largest. Assign t he new list to the variable **factors**."
   ]
  },
  {
   "cell_type": "code",
   "execution_count": 34,
   "id": "3696fbf5",
   "metadata": {},
   "outputs": [],
   "source": [
    "factors = []\n",
    "for i in range (2,n):\n",
    "    if n%i == 0:\n",
    "        factors.append(i)"
   ]
  },
  {
   "cell_type": "markdown",
   "id": "c368616d",
   "metadata": {},
   "source": [
    ">If you have downloaded the source code from this book's companion web site, you will find the following files in the Chapter 07 folder:\n",
    ">\n",
    ">- GirlNames.txt--This file contains a list of the 200 most popular names given to girls born in the United States from the year 2000 through 2009.\n",
    ">- BoyNames.txt--This file contains a list of the 200 most popular names given to boys born in the United States from the year 2000 through 2009.\n",
    ">\n",
    ">Write a program that reads the contents of the two files into two separate lists, allows a user to input either a girl's name, a boy's name, or both, then tells the user whether the name(s) was/were popular between 2000 and 2009.\n",
    ">\n",
    ">First, the program should prompt the user to choose a girl's name, a boy's name, or both by entering either 'girl', 'boy', or >'both.'\n",
    ">\n",
    ">Once they have chosen, they should be able to input a name. If the name was a popular name, like Jacob or Sophia, the program should print \"Jacob was a popular boy's name between 2000 and 2009.\" or \"Sophia was a popular girl's name between 2000 and 2009.\"\n",
    ">\n",
    ">If the name was not a popular name, like Voldemort, the program should print \"Voldemort was not a popular boy's name between 2000 and 2009.\"\n",
    ">\n",
    ">If the user chooses to input both a girl and boy's name, ask for the boy's name, then the girl's name, and print two statements in the form mentioned above on two separate lines, with the statement about the boy's name coming first. For example, if the user inputs Voldemort and then Sophia, print:\n",
    ">\n",
    ">- Voldemort was not a popular boy's name between 2000 and 2009. \n",
    ">- Sophia was a popular girl's name between 2000 and 2009.\n"
   ]
  },
  {
   "cell_type": "code",
   "execution_count": 35,
   "id": "4f122c23",
   "metadata": {},
   "outputs": [
    {
     "name": "stdout",
     "output_type": "stream",
     "text": [
      "Enter 'boy', 'girl', or 'both':girl\n",
      "Enter a girl's name:Mary\n",
      "Mary was not a popular girl's name between 2000 and 2009.\n"
     ]
    }
   ],
   "source": [
    "def search_boys():\n",
    "    boyfile = open (\"C:\\\\Users\\\\aless\\\\Desktop\\\\Zicklin\\\\Programming For Analytics\\\\Exercises\\\\BoyNames.txt\", \"r\")\n",
    "    boylist = []\n",
    "    for boyname in boyfile:\n",
    "        boyname = boyname.rstrip(\"\\n\")\n",
    "        boylist.append(boyname)\n",
    "    boyfile.close()\n",
    "\n",
    "    boyname = input(\"Enter a boy's name:\")\n",
    "    if boyname in boylist:\n",
    "        print (boyname, \"was a popular boy's name between 2000 and 2009.\")\n",
    "    else:\n",
    "        print (boyname, \"was not a popular boy's name between 2000 and 2009.\")\n",
    "\n",
    "def search_girls():\n",
    "    girlfile = open (\"C:\\\\Users\\\\aless\\\\Desktop\\\\Zicklin\\\\Programming For Analytics\\\\Exercises\\\\GirlNames.txt\", \"r\")\n",
    "    girllist = []\n",
    "    for girlname in girlfile:\n",
    "        girlname = girlname.rstrip(\"\\n\")\n",
    "        girllist.append(girlname)\n",
    "    girlfile.close()\n",
    "    girlname = input(\"Enter a girl's name:\")\n",
    "    if girlname in girllist:\n",
    "        print (girlname, \"was a popular girl's name between 2000 and 2009.\")\n",
    "    else:\n",
    "        print (girlname, \"was not a popular girl's name between 2000 and 2009.\")\n",
    "\n",
    "def main():\n",
    "    choice = input (\"Enter 'boy', 'girl', or 'both':\" )\n",
    "    if choice == 'boy':\n",
    "        search_boys()\n",
    "    elif choice == 'girl':\n",
    "        search_girls()\n",
    "    elif choice == 'both':\n",
    "        search_boys()\n",
    "        search_girls()\n",
    "main()"
   ]
  },
  {
   "cell_type": "markdown",
   "id": "88d5cfd4",
   "metadata": {},
   "source": [
    "# 7. Strings\n",
    ">Many companies use telephone numbers like 555-GET-FOOD so the number is easier for their customers to remember. On a standard telephone, the alphabetic letters are mapped to numbers in the following fashion:\n",
    ">\n",
    ">- A, B, C: 2\n",
    ">- D,E, F: 3\n",
    ">- G, H, I: 4\n",
    ">- J, K, L: 5\n",
    ">- M, N, O: 6\n",
    ">- P, Q, R, S: 7\n",
    ">- T, U, V: 8\n",
    ">- W, X, Y, Z: 9\n",
    ">\n",
    ">Write a program that asks the user to enter a 10-character telephone number in the format XXX-XXX-XXXX. The application should display the telephone number with any alphabetic characters that appeared in the original translated to their numeric equivalent.\n"
   ]
  },
  {
   "cell_type": "code",
   "execution_count": 36,
   "id": "abf8e8af",
   "metadata": {},
   "outputs": [
    {
     "name": "stdout",
     "output_type": "stream",
     "text": [
      "Enter a phone number to be translated:555-GET-FOOD\n",
      "555-438-3663\n"
     ]
    }
   ],
   "source": [
    "myphone = input(\"Enter a phone number to be translated:\")\n",
    "myphone = myphone.upper()\n",
    "for ch in myphone:\n",
    "    if ch == \"A\" or ch ==\"B\" or ch == \"C\":\n",
    "        print (\"2\", emd = \"\")\n",
    "    elif ch == \"D\" or ch == \"E\" or ch == \"F\":\n",
    "        print (\"3\", end = \"\")\n",
    "    elif ch == \"G\" or ch == \"H\" or ch == \"I\":\n",
    "        print (\"4\", end = \"\")\n",
    "    elif ch == \"J\" or ch == \"K\" or ch == \"L\":\n",
    "        print (\"5\", end = \"\")\n",
    "    elif ch == \"M\" or ch == \"N\" or ch == \"O\":\n",
    "        print (\"6\", end = \"\")\n",
    "    elif ch == \"P\" or ch == \"Q\" or ch == \"R\" or ch == \"S\":\n",
    "        print (\"7\", end = \"\")\n",
    "    elif ch == \"T\" or ch == \"U\" or ch == \"V\":\n",
    "        print (\"8\", end = \"\" )\n",
    "    elif ch == \"W\" or ch == \"X\" or ch == \"Y\" or ch == \"Z\":\n",
    "        print (\"9\", end = \"\")\n",
    "    else:\n",
    "        print(ch, end=\"\")\n",
    "print()"
   ]
  },
  {
   "cell_type": "markdown",
   "id": "17e6cf14",
   "metadata": {},
   "source": [
    ">Write a program with a function that accepts a string as an argument and returns a copy of the string with the first character of each sentence capitalized. The program should let the user enter a string and then pass it to the function, printing out the modified string."
   ]
  },
  {
   "cell_type": "code",
   "execution_count": 37,
   "id": "cb0cc6c0",
   "metadata": {},
   "outputs": [
    {
     "name": "stdout",
     "output_type": "stream",
     "text": [
      "Enter sentence to be capitalized:hello. my name is Joe. what is your name?\n",
      "Hello. My name is Joe. What is your name?\n"
     ]
    }
   ],
   "source": [
    "sentence = input(\"Enter sentence to be capitalized:\")\n",
    "\n",
    "sentence = sentence[0].upper() + sentence [1:]\n",
    "\n",
    "for i in range (1, len(sentence)):\n",
    "    if sentence [i] == \".\":\n",
    "        sentence = sentence [:i+2] + sentence [i+2].upper() + sentence [i+3:]\n",
    "print (sentence)"
   ]
  },
  {
   "cell_type": "markdown",
   "id": "569b71b5",
   "metadata": {},
   "source": [
    "# 8. Dictionaries\n",
    ">Given a dictionary **d**, create a new dictionary that reverses the keys and values of **d**. Thus, the keys of **d** become the values of the new dictionary and the values of **d** become the keys of the new dictionary. You may assume **d** contains no duplicate values (that is, no two keys map to the same values.) Assign the new dictionary to the variable **inverse**."
   ]
  },
  {
   "cell_type": "code",
   "execution_count": 38,
   "id": "e502a434",
   "metadata": {},
   "outputs": [],
   "source": [
    "d = {'':'','':'','':''}\n",
    "inverse = {}\n",
    "for k in d.keys():\n",
    "    val = d[k]\n",
    "    inverse[val] = k"
   ]
  },
  {
   "cell_type": "markdown",
   "id": "42bc7fb5",
   "metadata": {},
   "source": [
    ">Write a program that creates a directory containing course numbers and the\n",
    "room numbers of the rooms where the courses meet. The dictionary should have the following key-value pairs:\n",
    ">\n",
    ">\n",
    ">Course Number (key) Room Number (value)\n",
    ">- CS101 3004\n",
    ">- CS102 4501\n",
    ">- CS103 6755\n",
    ">- NT110 1244\n",
    ">- CM241 1411\n",
    ">\n",
    ">The program should also create a dictionary containing course numbers and the names of the instructors that teach each course. The dictionary should have the following key-value pairs:\n",
    ">\n",
    ">\n",
    ">Course Number (key) Instructor (value)\n",
    ">- CS101 Haynes\n",
    ">- CS102 Alvarado\n",
    ">- CS103 Rich\n",
    ">- NT110 Burke\n",
    ">- CM241 Lee\n",
    ">\n",
    ">The program should also create a dictionary containing course numbers and the meeting times of each course. The dictionary should have the following key-value pairs:\n",
    ">\n",
    ">\n",
    ">Course Number (key) Meeting Time (value)\n",
    ">- CS101 8:00am\n",
    ">- CS102 9:00am\n",
    ">- CS103 10:00am\n",
    ">- NT110 11:00am\n",
    ">- CM241 1:00pm\n",
    ">\n",
    ">The program should let the user enter a course number, and then it should display\n",
    "the course's room number, instructor, and meeting time.\n"
   ]
  },
  {
   "cell_type": "code",
   "execution_count": 39,
   "id": "a96dd966",
   "metadata": {},
   "outputs": [
    {
     "name": "stdout",
     "output_type": "stream",
     "text": [
      "Enter a class name:CS103\n",
      "Class: CS103\n",
      "Room: 6755\n",
      "Instructor: Rich\n",
      "Time: 10:00AM\n"
     ]
    }
   ],
   "source": [
    "dt_room = {\"CS101\":\"3004\",\n",
    "           \"CS102\": \"4501\",\n",
    "           \"CS103\": \"6755\",\n",
    "           \"NT110\": \"1244\",\n",
    "           \"CM241\": \"1411\"}\n",
    "           \n",
    "dt_instructor = {\"CS101\": \"Haynes\",\n",
    "                 \"CS102\": \"Alvarado\",\n",
    "                 \"CS103\": \"Rich\",\n",
    "                 \"NT110\": \"Burke\",\n",
    "                 \"CM241\": \"Lee\"}\n",
    "\n",
    "dt_time = {\"CS101\":\"8:00AM\",\n",
    "           \"CS102\":\"9:00AM\",\n",
    "           \"CS103\":\"10:00AM\",\n",
    "           \"NT110\":\"11:00AM\",\n",
    "           \"Cm241\":\"1:00PM\"}\n",
    "\n",
    "name = input (\"Enter a class name:\")\n",
    "print (\"Class:\", name)\n",
    "print (\"Room:\", dt_room.get(name))\n",
    "print (\"Instructor:\", dt_instructor.get(name))\n",
    "print (\"Time:\", dt_time.get(name))"
   ]
  },
  {
   "cell_type": "markdown",
   "id": "c2cccf6b",
   "metadata": {},
   "source": [
    ">Write an address book program that stores your contacts' names and their email addresses.\n",
    ">\n",
    ">The names and email addresses are originally stored in a file called phonebook.txt, in the format:\n",
    ">\n",
    ">Harry Potter\n",
    ">\n",
    ">theboywholived@hogwarts.edu\n",
    ">\n",
    ">Hermione Granger\n",
    ">\n",
    ">brightestwitch@hogwarts.edu\n",
    ">\n",
    ">Ron Weasley\n",
    ">\n",
    ">roonilwazlib@hogwarts.edu\n",
    ">\n",
    ">Draco Malfoy\n",
    ">\n",
    ">myfatherwillhearaboutthis@hogwarts.edu\n",
    ">\n",
    ">Severus Snape\n",
    ">\n",
    ">halfbloodprince@hogwarts.edu\n",
    ">\n",
    ">Albus Dumbledore\n",
    ">\n",
    ">alasearwax@hogwarts.edu\n",
    ">\n",
    ">Your program should read from the file, storing the names and corresponding email addresses in a dictionary as key-value pairs. Then, the program should display a menu that lets the user enter the numbers 1 through 5, each corresponding to a different menu item:\n",
    ">\n",
    ">1. look up an email address\n",
    ">2. add a new name and email address\n",
    ">3. change an email address\n",
    ">4. delete a name and email address\n",
    ">5. save address book and exit\n",
    ">\n",
    ">When the user enters 1, the program should prompt them for a name, and then print the corresponding email address. If there is no dictionary entry under that name, the program should print, \"Sorry, no contact exists under that name.\"\n",
    "When the user enters 2, the program should prompt them for a name and an email address, then add a new key-value pair to the dictionary.\n",
    ">\n",
    ">When the user enters 3, the program should prompt them for a name and a new email address for that contact. It should change the value of the corresponding dictionary entry to match the new email address.\n",
    ">\n",
    ">When the user enters 4, the program should prompt them for a name and delete the corresponding dictionary entry.\n",
    "When the user enters 5, the program should write the names and email addresses in alphabetical order by first name to the file phonebook.out.\n"
   ]
  },
  {
   "cell_type": "code",
   "execution_count": null,
   "id": "315d344e",
   "metadata": {},
   "outputs": [
    {
     "name": "stdout",
     "output_type": "stream",
     "text": [
      "Enter\n",
      "1. look up an email address\n",
      "2. add a new name and email address\n",
      "3. change an email address\n",
      "4. delete a name and email address\n",
      "5. save address book and exit:1\n",
      "Enter name:Draco Malfoy\n",
      "myfatherwillhearaboutthis@hogwarts.edu\n",
      "Enter\n",
      "1. look up an email address\n",
      "2. add a new name and email address\n",
      "3. change an email address\n",
      "4. delete a name and email address\n"
     ]
    }
   ],
   "source": [
    "def get_phonebook():\n",
    "    phone_file = open (\"C:\\\\Users\\\\aless\\\\Desktop\\\\Zicklin\\\\Programming For Analytics\\\\Exercises\\\\phonebook.txt\" , \"r\")\n",
    "    phone_list = []\n",
    "    for line in phone_file:\n",
    "        line = line.rstrip(\"\\n\")\n",
    "        phone_list.append(line)\n",
    "    phone_file.close()\n",
    "\n",
    "    names_list = phone_list[::2]\n",
    "    email_list = phone_list[1::2]\n",
    "\n",
    "    dt_phone = dict(zip(names_list, email_list))\n",
    "\n",
    "    return dt_phone\n",
    "\n",
    "def write_phonebook(dt_phone):\n",
    "    outfile = open (\"C:\\\\Users\\\\aless\\\\Desktop\\\\Zicklin\\\\Programming For Analytics\\\\Exercises\\\\phonebook.txt\", \"w\")\n",
    "    for k,v in sorted(dt_phone.items()):\n",
    "        outfile.write(k+\"\\n\")\n",
    "        outfile.write(v+\"\\n\")\n",
    "    outfile.close()\n",
    "\n",
    "def get_email(dt_phone):\n",
    "    name = input (\"Enter name:\")\n",
    "    print (dt_phone.get(name, \"Sorry, no contact exists under that name\"))\n",
    "\n",
    "def add_new_name_email (dt_phone):\n",
    "    name = input(\"Enter name:\")\n",
    "    email = input (\"Enter email address:\")\n",
    "    dt_phone[name] = email\n",
    "\n",
    "def change_email(dt_phone):\n",
    "    name = input(\"Enter name:\")\n",
    "    email = input (\"Enter new email address:\")\n",
    "    dt_phone[name] = email\n",
    "\n",
    "def del_name(dt_phone):\n",
    "    name = input (\"Enter name:\")\n",
    "    dt_phone.pop(name)\n",
    "\n",
    "def main():\n",
    "    dt1 = get_phonebook()\n",
    "    while True:\n",
    "        print(\"Enter\")\n",
    "        print(\"1. look up an email address\")\n",
    "        print(\"2. add a new name and email address\")\n",
    "        print(\"3. change an email address\")\n",
    "        print(\"4. delete a name and email address\")\n",
    "        choice = input(\"5. save address book and exit:\")\n",
    "\n",
    "        if choice == \"1\":\n",
    "            get_email(dt1)\n",
    "        elif choice == \"2\":\n",
    "            add_new_name_email(dt1)\n",
    "        elif choice == \"3\":\n",
    "            change_email(dt1)\n",
    "        elif choice == \"4\":\n",
    "            del_name(dt1)\n",
    "        elif choice == \"5\":\n",
    "            write_phonebook(dt1)\n",
    "            break\n",
    "main()"
   ]
  },
  {
   "cell_type": "code",
   "execution_count": null,
   "id": "3bc19877",
   "metadata": {},
   "outputs": [],
   "source": []
  }
 ],
 "metadata": {
  "kernelspec": {
   "display_name": "Python 3 (ipykernel)",
   "language": "python",
   "name": "python3"
  },
  "language_info": {
   "codemirror_mode": {
    "name": "ipython",
    "version": 3
   },
   "file_extension": ".py",
   "mimetype": "text/x-python",
   "name": "python",
   "nbconvert_exporter": "python",
   "pygments_lexer": "ipython3",
   "version": "3.10.9"
  }
 },
 "nbformat": 4,
 "nbformat_minor": 5
}
